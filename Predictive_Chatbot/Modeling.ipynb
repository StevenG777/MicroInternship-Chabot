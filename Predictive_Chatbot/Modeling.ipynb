{
 "cells": [
  {
   "cell_type": "markdown",
   "id": "5f3be5e6",
   "metadata": {},
   "source": [
    "# Assignment 5: Deep Learning Modeling"
   ]
  },
  {
   "cell_type": "markdown",
   "id": "8419d115",
   "metadata": {},
   "source": [
    "## Import Libraries"
   ]
  },
  {
   "cell_type": "code",
   "execution_count": 1,
   "id": "40ff04fc",
   "metadata": {},
   "outputs": [],
   "source": [
    "import numpy as np\n",
    "import matplotlib.pyplot as plt\n",
    "import pickle\n",
    "from Assignment5_Intent import Intents\n",
    "from keras.models import Sequential\n",
    "from keras.layers import Dense, Activation, Dropout\n",
    "from keras import regularizers\n",
    "from tensorflow.keras.optimizers import SGD, Adam\n"
   ]
  },
  {
   "cell_type": "markdown",
   "id": "b80d9869",
   "metadata": {},
   "source": [
    "## Load data"
   ]
  },
  {
   "cell_type": "code",
   "execution_count": 2,
   "id": "a9ca4a24",
   "metadata": {},
   "outputs": [],
   "source": [
    "with open('train_test_data.pickle', 'rb') as f:\n",
    "    data = pickle.load(f)\n",
    "    \n",
    "X_train = data['X_train']\n",
    "X_test = data['X_test']\n",
    "Y_train = data['Y_train']\n",
    "Y_test = data['Y_test']"
   ]
  },
  {
   "cell_type": "markdown",
   "id": "840b5f51",
   "metadata": {},
   "source": [
    "## Define Model"
   ]
  },
  {
   "cell_type": "code",
   "execution_count": 3,
   "id": "bc866e53",
   "metadata": {},
   "outputs": [],
   "source": [
    "model = Sequential()\n",
    "\n",
    "model.add(Dense(128, input_shape=(len(X_train[0]),), activation='relu'))\n",
    "\n",
    "model.add(Dropout(0.1))\n",
    "\n",
    "model.add(Dense(64, activation='relu'))\n",
    "\n",
    "model.add(Dropout(0.1))\n",
    "\n",
    "model.add(Dense(len(Y_train[0]), activation='softmax'))"
   ]
  },
  {
   "cell_type": "code",
   "execution_count": 4,
   "id": "e76252b7",
   "metadata": {},
   "outputs": [
    {
     "name": "stdout",
     "output_type": "stream",
     "text": [
      "Model: \"sequential\"\n",
      "_________________________________________________________________\n",
      " Layer (type)                Output Shape              Param #   \n",
      "=================================================================\n",
      " dense (Dense)               (None, 128)               5760      \n",
      "                                                                 \n",
      " dropout (Dropout)           (None, 128)               0         \n",
      "                                                                 \n",
      " dense_1 (Dense)             (None, 64)                8256      \n",
      "                                                                 \n",
      " dropout_1 (Dropout)         (None, 64)                0         \n",
      "                                                                 \n",
      " dense_2 (Dense)             (None, 2)                 130       \n",
      "                                                                 \n",
      "=================================================================\n",
      "Total params: 14,146\n",
      "Trainable params: 14,146\n",
      "Non-trainable params: 0\n",
      "_________________________________________________________________\n",
      "None\n"
     ]
    }
   ],
   "source": [
    "# Check model summary\n",
    "print(model.summary())"
   ]
  },
  {
   "cell_type": "markdown",
   "id": "a7a298e6",
   "metadata": {},
   "source": [
    "## Compile Model"
   ]
  },
  {
   "cell_type": "code",
   "execution_count": 5,
   "id": "07575441",
   "metadata": {},
   "outputs": [],
   "source": [
    "adam = Adam(learning_rate=0.01, weight_decay=1e-6)\n",
    "model.compile(loss='categorical_crossentropy', optimizer=adam, metrics=['accuracy'])"
   ]
  },
  {
   "cell_type": "markdown",
   "id": "86dd82d8",
   "metadata": {},
   "source": [
    "## Train Model"
   ]
  },
  {
   "cell_type": "code",
   "execution_count": 11,
   "id": "ed92c680",
   "metadata": {},
   "outputs": [
    {
     "name": "stdout",
     "output_type": "stream",
     "text": [
      "Epoch 1/100\n",
      "430/430 [==============================] - 0s 587us/step - loss: 0.3025 - accuracy: 0.8678 - val_loss: 0.2485 - val_accuracy: 0.9038\n",
      "Epoch 2/100\n",
      "430/430 [==============================] - 0s 446us/step - loss: 0.2952 - accuracy: 0.8715 - val_loss: 0.2600 - val_accuracy: 0.8954\n",
      "Epoch 3/100\n",
      "430/430 [==============================] - 0s 440us/step - loss: 0.2932 - accuracy: 0.8659 - val_loss: 0.2691 - val_accuracy: 0.8912\n",
      "Epoch 4/100\n",
      "430/430 [==============================] - 0s 434us/step - loss: 0.3030 - accuracy: 0.8710 - val_loss: 0.2629 - val_accuracy: 0.8954\n",
      "Epoch 5/100\n",
      "430/430 [==============================] - 0s 459us/step - loss: 0.2904 - accuracy: 0.8757 - val_loss: 0.2726 - val_accuracy: 0.8996\n",
      "Epoch 6/100\n",
      "430/430 [==============================] - 0s 436us/step - loss: 0.2845 - accuracy: 0.8752 - val_loss: 0.2967 - val_accuracy: 0.8912\n",
      "Epoch 7/100\n",
      "430/430 [==============================] - 0s 440us/step - loss: 0.2930 - accuracy: 0.8734 - val_loss: 0.2795 - val_accuracy: 0.8912\n",
      "Epoch 8/100\n",
      "430/430 [==============================] - 0s 433us/step - loss: 0.2980 - accuracy: 0.8706 - val_loss: 0.4125 - val_accuracy: 0.8870\n",
      "Epoch 9/100\n",
      "430/430 [==============================] - 0s 439us/step - loss: 0.3312 - accuracy: 0.8682 - val_loss: 0.4135 - val_accuracy: 0.8745\n",
      "Epoch 10/100\n",
      "430/430 [==============================] - 0s 433us/step - loss: 0.3015 - accuracy: 0.8729 - val_loss: 0.3805 - val_accuracy: 0.8912\n",
      "Epoch 11/100\n",
      "430/430 [==============================] - 0s 434us/step - loss: 0.3001 - accuracy: 0.8678 - val_loss: 0.4454 - val_accuracy: 0.8787\n",
      "Epoch 12/100\n",
      "430/430 [==============================] - 0s 432us/step - loss: 0.3066 - accuracy: 0.8710 - val_loss: 0.3360 - val_accuracy: 0.8912\n",
      "Epoch 13/100\n",
      "430/430 [==============================] - 0s 433us/step - loss: 0.3138 - accuracy: 0.8641 - val_loss: 0.3081 - val_accuracy: 0.8954\n",
      "Epoch 14/100\n",
      "430/430 [==============================] - 0s 445us/step - loss: 0.2997 - accuracy: 0.8696 - val_loss: 0.3133 - val_accuracy: 0.8954\n",
      "Epoch 15/100\n",
      "430/430 [==============================] - 0s 464us/step - loss: 0.2991 - accuracy: 0.8729 - val_loss: 0.3031 - val_accuracy: 0.8954\n",
      "Epoch 16/100\n",
      "430/430 [==============================] - 0s 436us/step - loss: 0.3053 - accuracy: 0.8687 - val_loss: 0.3498 - val_accuracy: 0.8536\n",
      "Epoch 17/100\n",
      "430/430 [==============================] - 0s 434us/step - loss: 0.2863 - accuracy: 0.8766 - val_loss: 0.3344 - val_accuracy: 0.8870\n",
      "Epoch 18/100\n",
      "430/430 [==============================] - 0s 440us/step - loss: 0.2967 - accuracy: 0.8692 - val_loss: 0.3717 - val_accuracy: 0.8912\n",
      "Epoch 19/100\n",
      "430/430 [==============================] - 0s 445us/step - loss: 0.2973 - accuracy: 0.8734 - val_loss: 0.3415 - val_accuracy: 0.8954\n",
      "Epoch 20/100\n",
      "430/430 [==============================] - 0s 434us/step - loss: 0.2979 - accuracy: 0.8701 - val_loss: 0.3424 - val_accuracy: 0.8912\n",
      "Epoch 21/100\n",
      "430/430 [==============================] - 0s 435us/step - loss: 0.2937 - accuracy: 0.8724 - val_loss: 0.3462 - val_accuracy: 0.8787\n",
      "Epoch 22/100\n",
      "430/430 [==============================] - 0s 432us/step - loss: 0.2935 - accuracy: 0.8790 - val_loss: 0.3365 - val_accuracy: 0.8912\n",
      "Epoch 23/100\n",
      "430/430 [==============================] - 0s 432us/step - loss: 0.2953 - accuracy: 0.8701 - val_loss: 0.3223 - val_accuracy: 0.8912\n",
      "Epoch 24/100\n",
      "430/430 [==============================] - 0s 433us/step - loss: 0.2975 - accuracy: 0.8701 - val_loss: 0.3116 - val_accuracy: 0.8912\n",
      "Epoch 25/100\n",
      "430/430 [==============================] - 0s 434us/step - loss: 0.2815 - accuracy: 0.8757 - val_loss: 0.3227 - val_accuracy: 0.8954\n",
      "Epoch 26/100\n",
      "430/430 [==============================] - 0s 431us/step - loss: 0.2930 - accuracy: 0.8715 - val_loss: 0.3201 - val_accuracy: 0.8912\n",
      "Epoch 27/100\n",
      "430/430 [==============================] - 0s 434us/step - loss: 0.2966 - accuracy: 0.8706 - val_loss: 0.3896 - val_accuracy: 0.8828\n",
      "Epoch 28/100\n",
      "430/430 [==============================] - 0s 434us/step - loss: 0.2872 - accuracy: 0.8682 - val_loss: 0.3651 - val_accuracy: 0.8870\n",
      "Epoch 29/100\n",
      "430/430 [==============================] - 0s 442us/step - loss: 0.2912 - accuracy: 0.8752 - val_loss: 0.3376 - val_accuracy: 0.8745\n",
      "Epoch 30/100\n",
      "430/430 [==============================] - 0s 431us/step - loss: 0.3073 - accuracy: 0.8729 - val_loss: 0.6579 - val_accuracy: 0.8787\n",
      "Epoch 31/100\n",
      "430/430 [==============================] - 0s 435us/step - loss: 0.2902 - accuracy: 0.8729 - val_loss: 0.4230 - val_accuracy: 0.8787\n",
      "Epoch 32/100\n",
      "430/430 [==============================] - 0s 437us/step - loss: 0.2862 - accuracy: 0.8729 - val_loss: 0.4934 - val_accuracy: 0.8870\n",
      "Epoch 33/100\n",
      "430/430 [==============================] - 0s 434us/step - loss: 0.2874 - accuracy: 0.8748 - val_loss: 0.4119 - val_accuracy: 0.8870\n",
      "Epoch 34/100\n",
      "430/430 [==============================] - 0s 449us/step - loss: 0.3262 - accuracy: 0.8720 - val_loss: 0.3665 - val_accuracy: 0.8954\n",
      "Epoch 35/100\n",
      "430/430 [==============================] - 0s 431us/step - loss: 0.2884 - accuracy: 0.8710 - val_loss: 0.5461 - val_accuracy: 0.8577\n",
      "Epoch 36/100\n",
      "430/430 [==============================] - 0s 445us/step - loss: 0.2950 - accuracy: 0.8715 - val_loss: 0.4282 - val_accuracy: 0.8828\n",
      "Epoch 37/100\n",
      "430/430 [==============================] - 0s 432us/step - loss: 0.2875 - accuracy: 0.8757 - val_loss: 0.4423 - val_accuracy: 0.8787\n",
      "Epoch 38/100\n",
      "430/430 [==============================] - 0s 432us/step - loss: 0.2959 - accuracy: 0.8743 - val_loss: 0.4719 - val_accuracy: 0.8912\n",
      "Epoch 39/100\n",
      "430/430 [==============================] - 0s 439us/step - loss: 0.2827 - accuracy: 0.8734 - val_loss: 0.4851 - val_accuracy: 0.8703\n",
      "Epoch 40/100\n",
      "430/430 [==============================] - 0s 471us/step - loss: 0.2957 - accuracy: 0.8692 - val_loss: 0.6321 - val_accuracy: 0.8828\n",
      "Epoch 41/100\n",
      "430/430 [==============================] - 0s 437us/step - loss: 0.2929 - accuracy: 0.8766 - val_loss: 0.4531 - val_accuracy: 0.8661\n",
      "Epoch 42/100\n",
      "430/430 [==============================] - 0s 434us/step - loss: 0.3073 - accuracy: 0.8696 - val_loss: 0.5708 - val_accuracy: 0.8787\n",
      "Epoch 43/100\n",
      "430/430 [==============================] - 0s 434us/step - loss: 0.2808 - accuracy: 0.8696 - val_loss: 0.6847 - val_accuracy: 0.8828\n",
      "Epoch 44/100\n",
      "430/430 [==============================] - 0s 436us/step - loss: 0.2924 - accuracy: 0.8743 - val_loss: 0.4301 - val_accuracy: 0.8745\n",
      "Epoch 45/100\n",
      "430/430 [==============================] - 0s 434us/step - loss: 0.2890 - accuracy: 0.8752 - val_loss: 0.5794 - val_accuracy: 0.8368\n",
      "Epoch 46/100\n",
      "430/430 [==============================] - 0s 453us/step - loss: 0.2984 - accuracy: 0.8710 - val_loss: 0.5747 - val_accuracy: 0.8828\n",
      "Epoch 47/100\n",
      "430/430 [==============================] - 0s 448us/step - loss: 0.2950 - accuracy: 0.8752 - val_loss: 0.8469 - val_accuracy: 0.8870\n",
      "Epoch 48/100\n",
      "430/430 [==============================] - 0s 441us/step - loss: 0.2899 - accuracy: 0.8738 - val_loss: 0.6869 - val_accuracy: 0.8954\n",
      "Epoch 49/100\n",
      "430/430 [==============================] - 0s 435us/step - loss: 0.3454 - accuracy: 0.8687 - val_loss: 0.7574 - val_accuracy: 0.8577\n",
      "Epoch 50/100\n",
      "430/430 [==============================] - 0s 437us/step - loss: 0.2818 - accuracy: 0.8734 - val_loss: 0.7713 - val_accuracy: 0.8410\n",
      "Epoch 51/100\n",
      "430/430 [==============================] - 0s 438us/step - loss: 0.2811 - accuracy: 0.8724 - val_loss: 0.5790 - val_accuracy: 0.8703\n",
      "Epoch 52/100\n",
      "430/430 [==============================] - 0s 433us/step - loss: 0.2797 - accuracy: 0.8729 - val_loss: 0.6715 - val_accuracy: 0.8954\n",
      "Epoch 53/100\n",
      "430/430 [==============================] - 0s 441us/step - loss: 0.2892 - accuracy: 0.8785 - val_loss: 0.4485 - val_accuracy: 0.8703\n",
      "Epoch 54/100\n",
      "430/430 [==============================] - 0s 486us/step - loss: 0.2885 - accuracy: 0.8762 - val_loss: 0.5992 - val_accuracy: 0.8745\n",
      "Epoch 55/100\n",
      "430/430 [==============================] - 0s 503us/step - loss: 0.2749 - accuracy: 0.8766 - val_loss: 0.5163 - val_accuracy: 0.8703\n",
      "Epoch 56/100\n",
      "430/430 [==============================] - 0s 447us/step - loss: 0.2860 - accuracy: 0.8748 - val_loss: 0.5826 - val_accuracy: 0.8745\n",
      "Epoch 57/100\n"
     ]
    },
    {
     "name": "stdout",
     "output_type": "stream",
     "text": [
      "430/430 [==============================] - 0s 434us/step - loss: 0.2966 - accuracy: 0.8687 - val_loss: 0.4162 - val_accuracy: 0.8912\n",
      "Epoch 58/100\n",
      "430/430 [==============================] - 0s 433us/step - loss: 0.2942 - accuracy: 0.8724 - val_loss: 0.6854 - val_accuracy: 0.8536\n",
      "Epoch 59/100\n",
      "430/430 [==============================] - 0s 432us/step - loss: 0.2942 - accuracy: 0.8734 - val_loss: 0.7139 - val_accuracy: 0.8787\n",
      "Epoch 60/100\n",
      "430/430 [==============================] - 0s 432us/step - loss: 0.3054 - accuracy: 0.8757 - val_loss: 0.7058 - val_accuracy: 0.8577\n",
      "Epoch 61/100\n",
      "430/430 [==============================] - 0s 439us/step - loss: 0.3016 - accuracy: 0.8641 - val_loss: 0.6012 - val_accuracy: 0.8870\n",
      "Epoch 62/100\n",
      "430/430 [==============================] - 0s 432us/step - loss: 0.2927 - accuracy: 0.8715 - val_loss: 0.4628 - val_accuracy: 0.8661\n",
      "Epoch 63/100\n",
      "430/430 [==============================] - 0s 433us/step - loss: 0.2886 - accuracy: 0.8696 - val_loss: 0.4389 - val_accuracy: 0.8787\n",
      "Epoch 64/100\n",
      "430/430 [==============================] - 0s 432us/step - loss: 0.2878 - accuracy: 0.8734 - val_loss: 0.5857 - val_accuracy: 0.8577\n",
      "Epoch 65/100\n",
      "430/430 [==============================] - 0s 435us/step - loss: 0.2888 - accuracy: 0.8762 - val_loss: 0.5849 - val_accuracy: 0.8745\n",
      "Epoch 66/100\n",
      "430/430 [==============================] - 0s 431us/step - loss: 0.2803 - accuracy: 0.8734 - val_loss: 0.6613 - val_accuracy: 0.8703\n",
      "Epoch 67/100\n",
      "430/430 [==============================] - 0s 435us/step - loss: 0.2815 - accuracy: 0.8734 - val_loss: 0.6271 - val_accuracy: 0.8661\n",
      "Epoch 68/100\n",
      "430/430 [==============================] - 0s 433us/step - loss: 0.2901 - accuracy: 0.8771 - val_loss: 0.6102 - val_accuracy: 0.8703\n",
      "Epoch 69/100\n",
      "430/430 [==============================] - 0s 434us/step - loss: 0.2812 - accuracy: 0.8766 - val_loss: 0.4305 - val_accuracy: 0.8787\n",
      "Epoch 70/100\n",
      "430/430 [==============================] - 0s 431us/step - loss: 0.2861 - accuracy: 0.8706 - val_loss: 0.6460 - val_accuracy: 0.8661\n",
      "Epoch 71/100\n",
      "430/430 [==============================] - 0s 433us/step - loss: 0.2806 - accuracy: 0.8734 - val_loss: 0.6627 - val_accuracy: 0.8577\n",
      "Epoch 72/100\n",
      "430/430 [==============================] - 0s 438us/step - loss: 0.2837 - accuracy: 0.8752 - val_loss: 0.8085 - val_accuracy: 0.8745\n",
      "Epoch 73/100\n",
      "430/430 [==============================] - 0s 432us/step - loss: 0.2941 - accuracy: 0.8706 - val_loss: 0.8908 - val_accuracy: 0.8745\n",
      "Epoch 74/100\n",
      "430/430 [==============================] - 0s 432us/step - loss: 0.2791 - accuracy: 0.8743 - val_loss: 0.6474 - val_accuracy: 0.8745\n",
      "Epoch 75/100\n",
      "430/430 [==============================] - 0s 432us/step - loss: 0.2805 - accuracy: 0.8780 - val_loss: 0.7677 - val_accuracy: 0.8745\n",
      "Epoch 76/100\n",
      "430/430 [==============================] - 0s 434us/step - loss: 0.3152 - accuracy: 0.8762 - val_loss: 1.1184 - val_accuracy: 0.8745\n",
      "Epoch 77/100\n",
      "430/430 [==============================] - 0s 431us/step - loss: 0.3186 - accuracy: 0.8776 - val_loss: 0.7876 - val_accuracy: 0.8745\n",
      "Epoch 78/100\n",
      "430/430 [==============================] - 0s 431us/step - loss: 0.2885 - accuracy: 0.8771 - val_loss: 0.6919 - val_accuracy: 0.8703\n",
      "Epoch 79/100\n",
      "430/430 [==============================] - 0s 430us/step - loss: 0.2968 - accuracy: 0.8710 - val_loss: 0.8456 - val_accuracy: 0.8703\n",
      "Epoch 80/100\n",
      "430/430 [==============================] - 0s 431us/step - loss: 0.2751 - accuracy: 0.8808 - val_loss: 0.8161 - val_accuracy: 0.8661\n",
      "Epoch 81/100\n",
      "430/430 [==============================] - 0s 430us/step - loss: 0.2828 - accuracy: 0.8738 - val_loss: 0.7874 - val_accuracy: 0.8577\n",
      "Epoch 82/100\n",
      "430/430 [==============================] - 0s 431us/step - loss: 0.2875 - accuracy: 0.8790 - val_loss: 0.8247 - val_accuracy: 0.8787\n",
      "Epoch 83/100\n",
      "430/430 [==============================] - 0s 457us/step - loss: 0.2850 - accuracy: 0.8748 - val_loss: 0.7669 - val_accuracy: 0.8494\n",
      "Epoch 84/100\n",
      "430/430 [==============================] - 0s 432us/step - loss: 0.2889 - accuracy: 0.8771 - val_loss: 0.7507 - val_accuracy: 0.8661\n",
      "Epoch 85/100\n",
      "430/430 [==============================] - 0s 434us/step - loss: 0.2961 - accuracy: 0.8734 - val_loss: 0.5767 - val_accuracy: 0.8787\n",
      "Epoch 86/100\n",
      "430/430 [==============================] - 0s 432us/step - loss: 0.2961 - accuracy: 0.8785 - val_loss: 0.5418 - val_accuracy: 0.8619\n",
      "Epoch 87/100\n",
      "430/430 [==============================] - 0s 436us/step - loss: 0.2837 - accuracy: 0.8757 - val_loss: 0.5992 - val_accuracy: 0.8494\n",
      "Epoch 88/100\n",
      "430/430 [==============================] - 0s 432us/step - loss: 0.2901 - accuracy: 0.8729 - val_loss: 0.6549 - val_accuracy: 0.8661\n",
      "Epoch 89/100\n",
      "430/430 [==============================] - 0s 435us/step - loss: 0.2967 - accuracy: 0.8752 - val_loss: 0.7742 - val_accuracy: 0.8703\n",
      "Epoch 90/100\n",
      "430/430 [==============================] - 0s 434us/step - loss: 0.2825 - accuracy: 0.8790 - val_loss: 0.7410 - val_accuracy: 0.8828\n",
      "Epoch 91/100\n",
      "430/430 [==============================] - 0s 436us/step - loss: 0.3011 - accuracy: 0.8734 - val_loss: 0.9177 - val_accuracy: 0.8703\n",
      "Epoch 92/100\n",
      "430/430 [==============================] - 0s 431us/step - loss: 0.2786 - accuracy: 0.8766 - val_loss: 0.9266 - val_accuracy: 0.8703\n",
      "Epoch 93/100\n",
      "430/430 [==============================] - 0s 435us/step - loss: 0.2851 - accuracy: 0.8785 - val_loss: 0.8579 - val_accuracy: 0.8661\n",
      "Epoch 94/100\n",
      "430/430 [==============================] - 0s 439us/step - loss: 0.2800 - accuracy: 0.8757 - val_loss: 0.7734 - val_accuracy: 0.8536\n",
      "Epoch 95/100\n",
      "430/430 [==============================] - 0s 432us/step - loss: 0.2744 - accuracy: 0.8771 - val_loss: 1.1104 - val_accuracy: 0.8243\n",
      "Epoch 96/100\n",
      "430/430 [==============================] - 0s 436us/step - loss: 0.2850 - accuracy: 0.8715 - val_loss: 0.8912 - val_accuracy: 0.8326\n",
      "Epoch 97/100\n",
      "430/430 [==============================] - 0s 433us/step - loss: 0.2843 - accuracy: 0.8748 - val_loss: 0.7096 - val_accuracy: 0.8577\n",
      "Epoch 98/100\n",
      "430/430 [==============================] - 0s 450us/step - loss: 0.2851 - accuracy: 0.8757 - val_loss: 0.7961 - val_accuracy: 0.8661\n",
      "Epoch 99/100\n",
      "430/430 [==============================] - 0s 433us/step - loss: 0.3008 - accuracy: 0.8734 - val_loss: 0.6579 - val_accuracy: 0.8828\n",
      "Epoch 100/100\n",
      "430/430 [==============================] - 0s 434us/step - loss: 0.2980 - accuracy: 0.8752 - val_loss: 0.7274 - val_accuracy: 0.8703\n"
     ]
    }
   ],
   "source": [
    "history = model.fit(X_train, Y_train, epochs=100, batch_size=5, verbose=1, validation_split=0.1)"
   ]
  },
  {
   "cell_type": "code",
   "execution_count": 12,
   "id": "55b7f650",
   "metadata": {},
   "outputs": [
    {
     "data": {
      "image/png": "[encoded data removed]",
      "text/plain": [
       "<Figure size 640x480 with 1 Axes>"
      ]
     },
     "metadata": {},
     "output_type": "display_data"
    }
   ],
   "source": [
    "# Visualize the training process\n",
    "plt.plot(history.history['loss'])\n",
    "plt.plot(history.history['val_loss'])\n",
    "plt.title('model loss')\n",
    "plt.ylabel('loss')\n",
    "plt.xlabel('epoch')\n",
    "plt.legend(['train', 'validation'], loc='upper left')\n",
    "plt.show()"
   ]
  },
  {
   "cell_type": "markdown",
   "id": "61261b29",
   "metadata": {},
   "source": [
    "## Test Model"
   ]
  },
  {
   "cell_type": "code",
   "execution_count": 13,
   "id": "04e8845b",
   "metadata": {
    "scrolled": false
   },
   "outputs": [
    {
     "name": "stdout",
     "output_type": "stream",
     "text": [
      "19/19 [==============================] - 0s 530us/step\n"
     ]
    }
   ],
   "source": [
    "# Predict model\n",
    "Y_pred_encodings = model.predict(X_test, verbose=\"auto\")\n",
    "# Convert the result from probability-based to one hot encoding-based\n",
    "Y_pred = np.zeros(Y_pred_encodings.shape)\n",
    "for row, encoding in enumerate(Y_pred_encodings):\n",
    "    # Identify the index of maximum number in each row\n",
    "    max_val_index = (list(encoding)).index(max(list(encoding)))\n",
    "    # Set max number as 1 while keep other as 0\n",
    "    Y_pred[row][max_val_index] = 1"
   ]
  },
  {
   "cell_type": "markdown",
   "id": "6805fd49",
   "metadata": {},
   "source": [
    "## Evaluate Model"
   ]
  },
  {
   "cell_type": "code",
   "execution_count": 14,
   "id": "5b5d7aa0",
   "metadata": {},
   "outputs": [
    {
     "name": "stdout",
     "output_type": "stream",
     "text": [
      "Accuracy: 0.8324958123953099\n"
     ]
    }
   ],
   "source": [
    "# Initialize the row count\n",
    "correct_row_cnt = 0\n",
    "for row_pred, row_test in zip(Y_pred, Y_test):\n",
    "    # Initialize the character count\n",
    "    correct_char_cnt = 0\n",
    "    for ele_pred, ele_test in zip(row_pred, row_test):\n",
    "        # If all character in each row matched, then it's considered a correct row match\n",
    "        if ele_pred == ele_test:\n",
    "            correct_char_cnt += 1\n",
    "    if correct_char_cnt == Y_pred.shape[1]:\n",
    "        correct_row_cnt += 1\n",
    "        \n",
    "# Accuracy equals as proportion of correct row to all row\n",
    "accuracy = correct_row_cnt/Y_pred.shape[0]\n",
    "print(f\"Accuracy: {accuracy}\")"
   ]
  },
  {
   "cell_type": "markdown",
   "id": "4b1939e0",
   "metadata": {},
   "source": [
    "## Save Model"
   ]
  },
  {
   "cell_type": "code",
   "execution_count": 15,
   "id": "d5727ea5",
   "metadata": {},
   "outputs": [],
   "source": [
    "model.save('chatbot_model.h5')"
   ]
  }
 ],
 "metadata": {
  "kernelspec": {
   "display_name": "Python 3 (ipykernel)",
   "language": "python",
   "name": "python3"
  },
  "language_info": {
   "codemirror_mode": {
    "name": "ipython",
    "version": 3
   },
   "file_extension": ".py",
   "mimetype": "text/x-python",
   "name": "python",
   "nbconvert_exporter": "python",
   "pygments_lexer": "ipython3",
   "version": "3.10.9"
  }
 },
 "nbformat": 4,
 "nbformat_minor": 5
}
